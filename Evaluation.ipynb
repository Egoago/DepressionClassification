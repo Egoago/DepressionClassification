{
  "nbformat": 4,
  "nbformat_minor": 0,
  "metadata": {
    "language_info": {
      "codemirror_mode": {
        "name": "ipython",
        "version": 3
      },
      "file_extension": ".py",
      "mimetype": "text/x-python",
      "name": "python",
      "nbconvert_exporter": "python",
      "pygments_lexer": "ipython3",
      "version": "3.8.5"
    },
    "orig_nbformat": 2,
    "kernelspec": {
      "name": "python385jvsc74a57bd073e03da126b73bfff3642ec5261d56fa25c444ea595de51041687efaa60dda41",
      "display_name": "Python 3.8.5 64-bit (conda)"
    },
    "colab": {
      "name": "Evaluation.ipynb",
      "provenance": []
    }
  },
  "cells": [
    {
      "cell_type": "code",
      "metadata": {
        "id": "mxPon2WlwvqC",
        "outputId": "cf4888bc-7ec4-4780-e4ec-757a7089b441",
        "colab": {
          "base_uri": "https://localhost:8080/"
        }
      },
      "source": [
        "%%capture\n",
        "!pip install ipython-autotime\n",
        "%load_ext autotime\n",
        "\n",
        "import cv2\n",
        "import numpy as np\n",
        "from google_drive_downloader import GoogleDriveDownloader as gdd\n",
        "from keras import models"
      ],
      "execution_count": 50,
      "outputs": [
        {
          "output_type": "stream",
          "text": [
            "time: 2.77 s (started: 2021-05-04 19:46:34 +00:00)\n"
          ],
          "name": "stdout"
        }
      ]
    },
    {
      "cell_type": "code",
      "metadata": {
        "id": "4jOtMcHJxRWa",
        "outputId": "613aacae-b8a8-4ca0-f184-8ad6d5932d6a",
        "colab": {
          "base_uri": "https://localhost:8080/"
        }
      },
      "source": [
        "!rm -rf sample_data\n",
        "filename = 'video.mp4'\n",
        "gdd.download_file_from_google_drive(file_id='102TV4bTMQlU8jAJGajgKFWVoGZqBjE2M',\n",
        "                                    dest_path=f'./{filename}')"
      ],
      "execution_count": 51,
      "outputs": [
        {
          "output_type": "stream",
          "text": [
            "time: 145 ms (started: 2021-05-04 19:46:37 +00:00)\n"
          ],
          "name": "stdout"
        }
      ]
    },
    {
      "cell_type": "code",
      "metadata": {
        "id": "jC7ABim7wvqG",
        "outputId": "21802a99-f5ce-48ae-bb0c-7ce0dead92fe",
        "colab": {
          "base_uri": "https://localhost:8080/"
        }
      },
      "source": [
        "video = cv2.VideoCapture(filename)\n",
        "frameSize = (int(video.get(3)),int(video.get(4)))\n",
        "fps = video.get(cv2.CAP_PROP_FPS)\n",
        "frames = []\n",
        "data = []\n",
        "while True:\n",
        "    ret, frame = video.read()\n",
        "    if not ret:\n",
        "        break\n",
        "    frames.append(np.array(frame))\n",
        "    data.append(cv2.resize(frame, (256,256))/255.0)\n",
        "video.release()\n",
        "print(f'frames: {len(frames)}')"
      ],
      "execution_count": 52,
      "outputs": [
        {
          "output_type": "stream",
          "text": [
            "frames: 357\n",
            "time: 2.23 s (started: 2021-05-04 19:46:37 +00:00)\n"
          ],
          "name": "stdout"
        }
      ]
    },
    {
      "cell_type": "code",
      "metadata": {
        "id": "hFFS5nrjwvqK",
        "outputId": "b721e1a4-cf7b-4a3d-f7df-10d9f368fb42",
        "colab": {
          "base_uri": "https://localhost:8080/"
        }
      },
      "source": [
        "model = models.load_model('trackerDeep.h5')\n",
        "preds = model.predict(np.array(data))"
      ],
      "execution_count": 55,
      "outputs": [
        {
          "output_type": "stream",
          "text": [
            "time: 5.53 s (started: 2021-05-04 19:47:08 +00:00)\n"
          ],
          "name": "stdout"
        }
      ]
    },
    {
      "cell_type": "code",
      "metadata": {
        "id": "XVimuFBzwvqL",
        "outputId": "1801bf25-255f-499c-b06c-2778b0b17859",
        "colab": {
          "base_uri": "https://localhost:8080/"
        }
      },
      "source": [
        "fourcc = cv2.VideoWriter.fourcc(*\"MJPG\")\n",
        "out = cv2.VideoWriter('result.mp4', fourcc, fps, frameSize)\n",
        "for i, frame in enumerate(frames):\n",
        "  left = np.rint(preds[i][[0,1]] * frameSize).astype(int)\n",
        "  right = np.rint(preds[i][[1,2]] * frameSize).astype(int)\n",
        "  frame = cv2.circle(frame, tuple(left), radius=10, color=(0, 180, 255), thickness=-1)\n",
        "  frame = cv2.circle(frame, tuple(right), radius=10, color=(255, 180, 0), thickness=-1)\n",
        "  out.write(frame)\n",
        "out.release()"
      ],
      "execution_count": 54,
      "outputs": [
        {
          "output_type": "stream",
          "text": [
            "time: 1.95 s (started: 2021-05-04 19:46:45 +00:00)\n"
          ],
          "name": "stdout"
        }
      ]
    }
  ]
}