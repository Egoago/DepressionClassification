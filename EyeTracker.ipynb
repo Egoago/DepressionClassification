{
  "nbformat": 4,
  "nbformat_minor": 0,
  "metadata": {
    "colab": {
      "name": "Depression.ipynb",
      "provenance": [],
      "collapsed_sections": [],
      "authorship_tag": "ABX9TyMp0v2po60KKp9na5+M8qhg"
    },
    "kernelspec": {
      "name": "python3",
      "display_name": "Python 3"
    }
  },
  "cells": [
    {
      "cell_type": "markdown",
      "metadata": {
        "id": "NL0mZDM5UqiF"
      },
      "source": [
        "#Eye Tracker"
      ]
    },
    {
      "cell_type": "markdown",
      "metadata": {
        "id": "C05jCSHlfmMA"
      },
      "source": [
        "##Download and decompress the data\n",
        "This step takes ~2 min on a 2Gb dataset."
      ]
    },
    {
      "cell_type": "code",
      "metadata": {
        "id": "daLkgNw2mtnZ",
        "colab": {
          "base_uri": "https://localhost:8080/"
        },
        "outputId": "afde0d90-1545-472a-9ddc-87a452589f6a"
      },
      "source": [
        "from google_drive_downloader import GoogleDriveDownloader as gdd\n",
        "import tarfile\n",
        "import pathlib\n",
        "# download the dataset\n",
        "gdd.download_file_from_google_drive(file_id='1w5VN07QZygdtqAhmelHJskYD363TOOii',\n",
        "                                    dest_path='./compressedData.tar')\n",
        "# decompress the container\n",
        "tar = tarfile.open('compressedData.tar')\n",
        "tar.extractall('./compressedDataset')\n",
        "tar.close()\n",
        "!rm -rf compressedData.tar\n",
        "# decompress the inner folders\n",
        "for zipped_file in pathlib.Path(\"compressedDataset/\").glob('*.tar.gz'):\n",
        "    tar = tarfile.open(zipped_file, 'r:gz')\n",
        "    tar.extractall('./dataset')\n",
        "    tar.close()\n",
        "!rm -rf compressedDataset"
      ],
      "execution_count": 56,
      "outputs": [
        {
          "output_type": "stream",
          "text": [
            "Downloading 1w5VN07QZygdtqAhmelHJskYD363TOOii into ./compressedData.tar... Done.\n"
          ],
          "name": "stdout"
        }
      ]
    },
    {
      "cell_type": "markdown",
      "metadata": {
        "id": "1ocpVF-cxlXK"
      },
      "source": [
        "## Format the data"
      ]
    },
    {
      "cell_type": "code",
      "metadata": {
        "id": "p_ALvW3Rqgy8",
        "colab": {
          "base_uri": "https://localhost:8080/"
        },
        "outputId": "610ada9f-f462-4d79-9c53-9733d86a02b1"
      },
      "source": [
        "import numpy as np\n",
        "import json\n",
        "from PIL import Image\n",
        "\n",
        "directory = 'dataset'\n",
        "count = 0\n",
        "frameSize = (300,300)\n",
        "for dirName in os.listdir(directory)[:1]:\n",
        "    infoPath = os.path.join(directory, dirName, 'info.json')\n",
        "    with open(infoPath) as infofile:\n",
        "      info = json.load(infofile)\n",
        "    frameNumber = info['TotalFrames']\n",
        "    leftPath = os.path.join(directory, dirName, 'appleLeftEye.json')\n",
        "    rightPath = os.path.join(directory, dirName, 'appleRightEye.json')\n",
        "    facePath = os.path.join(directory, dirName, 'appleFace.json')\n",
        "    with open(leftPath) as l, open(rightPath) as r, open(facePath) as f:\n",
        "      leftEyes = json.load(l)\n",
        "      rightEyes = json.load(r)\n",
        "      faces = json.load(f)\n",
        "    for i in range(frameNumber):\n",
        "      if (left['IsValid'][i] and right['IsValid'][i]):\n",
        "        framePath = os.path.join(directory, dirName, 'frames', '%05d.jpg' % i)\n",
        "        saveDirPath = os.path.join(directory, 'train', 'frames')\n",
        "        if not os.path.exists(saveDirPath):\n",
        "          os.makedirs(saveDirPath)\n",
        "        savePath = os.path.join(saveDirPath, '%07d.jpg' % count)\n",
        "        with Image.open(framePath) as frame:\n",
        "          width, height = frame.size\n",
        "          frame.resize((frameSize))\n",
        "          frame.save(savePath, 'JPEG')\n",
        "        count += 1\n",
        "    print(count)\n",
        "        "
      ],
      "execution_count": 101,
      "outputs": [
        {
          "output_type": "stream",
          "text": [
            "477\n"
          ],
          "name": "stdout"
        }
      ]
    },
    {
      "cell_type": "markdown",
      "metadata": {
        "id": "J8KJ8sJ1xriS"
      },
      "source": [
        "## Preparation"
      ]
    },
    {
      "cell_type": "code",
      "metadata": {
        "id": "QHz7ONPLyHU5"
      },
      "source": [
        "nSamples = Y.size\n",
        "validSplit = 0.2\n",
        "testSplit = 0.1"
      ],
      "execution_count": null,
      "outputs": []
    },
    {
      "cell_type": "markdown",
      "metadata": {
        "id": "GPb048L3z6OZ"
      },
      "source": [
        "### Split"
      ]
    },
    {
      "cell_type": "code",
      "metadata": {
        "id": "H9lPioVLmp0Z"
      },
      "source": [
        "XTrain = X[0:int(nSamples*(1-validSplit-testSplit))]\n",
        "YTrain = Y[0:int(nSamples*(1-validSplit-testSplit))]\n",
        "XValid = X[int(nSamples*(1-validSplit-testSplit)):int(nSamples*(1-testSplit))]\n",
        "YValid = Y[int(nSamples*(1-validSplit-testSplit)):int(nSamples*(1-testSplit))]\n",
        "XTest  = X[int(nSamples*(1-testSplit)):]\n",
        "YTest  = Y[int(nSamples*(1-testSplit)):]"
      ],
      "execution_count": null,
      "outputs": []
    },
    {
      "cell_type": "markdown",
      "metadata": {
        "id": "rdaRa_-Ez3W6"
      },
      "source": [
        "### Standardize"
      ]
    },
    {
      "cell_type": "code",
      "metadata": {
        "id": "TNxIH1C9yDnq"
      },
      "source": [
        "scaler = preprocessing.StandardScaler().fit(XTrain)\n",
        "XTrain = scaler.transform(XTrain)\n",
        "XValid = scaler.transform(XValid)\n",
        "XTest  = scaler.transform(XTest)"
      ],
      "execution_count": null,
      "outputs": []
    },
    {
      "cell_type": "markdown",
      "metadata": {
        "id": "8q_wybC70OB2"
      },
      "source": [
        "## Visualize"
      ]
    },
    {
      "cell_type": "code",
      "metadata": {
        "id": "X4sh7iLN0VVS",
        "colab": {
          "base_uri": "https://localhost:8080/",
          "height": 283
        },
        "outputId": "b4058e39-86fd-488c-d6d0-d6d2a68e5ada"
      },
      "source": [
        "plt.scatter(XTrain[:,3], XTrain[:,10], c=np.round(YTrain[:]), cmap=plt.cm.cool)"
      ],
      "execution_count": null,
      "outputs": [
        {
          "output_type": "execute_result",
          "data": {
            "text/plain": [
              "<matplotlib.collections.PathCollection at 0x7f2329d71cd0>"
            ]
          },
          "metadata": {
            "tags": []
          },
          "execution_count": 7
        },
        {
          "output_type": "display_data",
          "data": {
            "image/png": "[encoded data removed]",
            "text/plain": [
              "<Figure size 432x288 with 1 Axes>"
            ]
          },
          "metadata": {
            "tags": [],
            "needs_background": "light"
          }
        }
      ]
    }
  ]
}