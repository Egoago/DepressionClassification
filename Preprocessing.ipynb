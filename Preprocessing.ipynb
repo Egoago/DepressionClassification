{
 "metadata": {
  "language_info": {
   "codemirror_mode": {
    "name": "ipython",
    "version": 3
   },
   "file_extension": ".py",
   "mimetype": "text/x-python",
   "name": "python",
   "nbconvert_exporter": "python",
   "pygments_lexer": "ipython3",
   "version": "3.8.5"
  },
  "orig_nbformat": 2,
  "kernelspec": {
   "name": "python385jvsc74a57bd073e03da126b73bfff3642ec5261d56fa25c444ea595de51041687efaa60dda41",
   "display_name": "Python 3.8.5 64-bit (conda)"
  }
 },
 "nbformat": 4,
 "nbformat_minor": 2,
 "cells": [
  {
   "cell_type": "code",
   "execution_count": 2,
   "metadata": {},
   "outputs": [],
   "source": [
    "import pathlib\n",
    "import tarfile\n",
    "import numpy as np"
   ]
  },
  {
   "cell_type": "code",
   "execution_count": null,
   "metadata": {},
   "outputs": [],
   "source": [
    "for zipped_file in pathlib.Path('..\\\\data\\\\').glob('*.tar.gz'):\n",
    "    tar = tarfile.open(zipped_file, 'r:gz')\n",
    "    tar.extractall('..\\\\completeDataset')\n",
    "    tar.close()"
   ]
  },
  {
   "cell_type": "code",
   "execution_count": null,
   "metadata": {},
   "outputs": [],
   "source": [
    "print('done')"
   ]
  },
  {
   "cell_type": "code",
   "execution_count": 3,
   "metadata": {},
   "outputs": [],
   "source": [
    "from IPython.display import HTML, display\n",
    "\n",
    "def progress(value, max=100, message = ''):\n",
    "    return HTML(f\"\"\"<progress\n",
    "                    value=\"{value}\"\n",
    "                    max=\"{max}\",\n",
    "                    style=\"width: 50%\"\n",
    "                > {value}\n",
    "                </progress> {message}\"\"\")\n",
    "\n",
    "def message(value = ''):\n",
    "    return HTML(f\"{value}\")"
   ]
  },
  {
   "cell_type": "code",
   "execution_count": 7,
   "metadata": {},
   "outputs": [
    {
     "output_type": "display_data",
     "data": {
      "text/plain": "<IPython.core.display.HTML object>",
      "text/html": ""
     },
     "metadata": {}
    }
   ],
   "source": [
    "import json\n",
    "from PIL import Image\n",
    "import csv\n",
    "import os\n",
    "\n",
    "directory = '..\\\\completeDataset'\n",
    "outDirectory = 'dataset'\n",
    "if not os.path.exists(outDirectory):\n",
    "          os.makedirs(outDirectory)\n",
    "testCut = 0.1\n",
    "count = 0\n",
    "frameSize = (256,256)\n",
    "with open(os.path.join(outDirectory,'train.csv'), mode='w') as trainDataframe, open(os.path.join(outDirectory,'test.csv'), mode='w') as testDataframe:\n",
    "  trainDfWriter = csv.writer(trainDataframe, delimiter=';')\n",
    "  testDfWriter = csv.writer(testDataframe, delimiter=';')\n",
    "  trainDfWriter.writerow(['image', 'leftX', 'leftY', 'rightX', 'rightY', 'width', 'height'])\n",
    "  testDfWriter.writerow(['image', 'leftX', 'leftY', 'rightX', 'rightY', 'width', 'height'])\n",
    "  decompressCount = 0\n",
    "  dirCount = len(os.listdir(directory))\n",
    "  progressBar = display(message(''), display_id=True)\n",
    "  for dirName in os.listdir(directory):\n",
    "    progressBar.update(progress(decompressCount,\n",
    "                                dirCount,\n",
    "                                f'{decompressCount}/{dirCount} decompressed directory'))\n",
    "    infoPath = os.path.join(directory, dirName, 'info.json')\n",
    "    if not os.path.exists(infoPath):\n",
    "      continue\n",
    "    with open(infoPath) as infofile:\n",
    "      info = json.load(infofile)\n",
    "    frameNumber = info['TotalFrames']\n",
    "    testCutPoint = frameNumber * (1 - testCut)\n",
    "    leftPath = os.path.join(directory, dirName, 'appleLeftEye.json')\n",
    "    rightPath = os.path.join(directory, dirName, 'appleRightEye.json')\n",
    "    facePath = os.path.join(directory, dirName, 'appleFace.json')\n",
    "    with open(leftPath) as l, open(rightPath) as r, open(facePath) as f:\n",
    "      leftEyes = json.load(l)\n",
    "      rightEyes = json.load(r)\n",
    "      faces = json.load(f)\n",
    "    processedFrames = 0\n",
    "    for i in range(frameNumber):\n",
    "      if (leftEyes['IsValid'][i] and rightEyes['IsValid'][i]):\n",
    "        framePath = os.path.join(directory, dirName, 'frames', '%05d.jpg' % i)\n",
    "        saveDirPath = os.path.join(outDirectory, 'frames')\n",
    "        if not os.path.exists(saveDirPath):\n",
    "          os.makedirs(saveDirPath)\n",
    "        savePath = os.path.join(saveDirPath, '%07d.jpg' % count)\n",
    "        with Image.open(framePath) as frame:\n",
    "          width, height = frame.size\n",
    "          fresizesFrame = frame.resize(frameSize)\n",
    "          fresizesFrame.save(savePath, 'JPEG')\n",
    "        leftX = (faces['X'][i]+leftEyes['X'][i]+(leftEyes[\"W\"][i]/2))/width\n",
    "        leftY = (faces['Y'][i]+leftEyes['Y'][i]+(leftEyes[\"H\"][i]/2))/height\n",
    "        rightX = (faces['X'][i]+rightEyes['X'][i]+(rightEyes[\"W\"][i]/2))/width\n",
    "        rightY = (faces['Y'][i]+rightEyes['Y'][i]+(rightEyes[\"H\"][i]/2))/height\n",
    "        if np.random.random() > testCut:\n",
    "          trainDfWriter.writerow([savePath, leftX, leftY, rightX, rightY, width, height])\n",
    "        else:\n",
    "          testDfWriter.writerow([savePath, leftX, leftY, rightX, rightY, width, height])\n",
    "        count += 1\n",
    "        processedFrames += 1\n",
    "        if processedFrames > 100:\n",
    "          break\n",
    "    decompressCount += 1\n",
    "progressBar.update(message(f'loaded {count} frames'))"
   ]
  }
 ]
}